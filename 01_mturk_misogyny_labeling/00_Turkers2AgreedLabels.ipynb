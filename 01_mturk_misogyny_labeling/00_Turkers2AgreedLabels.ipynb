{
 "cells": [
  {
   "cell_type": "markdown",
   "metadata": {},
   "source": [
    "# Calculate Agreement and Merge Labels\n",
    "\n",
    "We calculate agreement among the categories we pushed to MTurk for each task's file and for each category.\n",
    "\n",
    "We then use majority voting to label tweets by their categories and export the resulting data to a CSV."
   ]
  },
  {
   "cell_type": "code",
   "execution_count": 1,
   "metadata": {},
   "outputs": [],
   "source": [
    "%matplotlib inline\n",
    "\n",
    "import random\n",
    "import requests\n",
    "import glob\n",
    "import numpy as np\n",
    "import pandas as pd\n",
    "import matplotlib.pyplot as plt\n",
    "from statsmodels.stats.inter_rater import fleiss_kappa\n",
    "from statsmodels.stats.inter_rater import to_table\n",
    "from statsmodels.stats.inter_rater import aggregate_raters\n",
    "from sklearn.metrics import cohen_kappa_score"
   ]
  },
  {
   "cell_type": "markdown",
   "metadata": {},
   "source": [
    "## Define Labels\n",
    "\n",
    "Specify the mapping between labels and MTurk category names."
   ]
  },
  {
   "cell_type": "code",
   "execution_count": 2,
   "metadata": {},
   "outputs": [
    {
     "data": {
      "text/plain": [
       "{'category 1': 'Abusive',\n",
       " 'category 2': 'Affectionate',\n",
       " 'category 3': 'Lyrics',\n",
       " 'category 4': 'Self',\n",
       " 'category 5': 'Adult',\n",
       " 'category 6': 'Not English',\n",
       " 'category 7': 'Other'}"
      ]
     },
     "execution_count": 2,
     "metadata": {},
     "output_type": "execute_result"
    }
   ],
   "source": [
    "label_names = [\"Abusive\", \"Affectionate\", \"Lyrics\", \"Self\", \"Adult\", \"Not English\", \"Other\"]\n",
    "\n",
    "label_map = {\"category %d\" % (i+1):l for i,l in enumerate(label_names)}\n",
    "label_map"
   ]
  },
  {
   "cell_type": "markdown",
   "metadata": {},
   "source": [
    "## Merge MTurk Batch Results"
   ]
  },
  {
   "cell_type": "code",
   "execution_count": 3,
   "metadata": {},
   "outputs": [],
   "source": [
    "dfs = []\n",
    "\n",
    "for csv_f in glob.glob(\"./mturk_raw/Batch_*.csv\"):\n",
    "    local_df = pd.read_csv(csv_f)\n",
    "    dfs.append((csv_f, local_df))\n",
    "\n",
    "final_df = pd.concat([tup[1] for tup in dfs], sort=True)"
   ]
  },
  {
   "cell_type": "code",
   "execution_count": 4,
   "metadata": {},
   "outputs": [
    {
     "name": "stdout",
     "output_type": "stream",
     "text": [
      "(2793, 32)\n"
     ]
    },
    {
     "data": {
      "text/html": [
       "<div>\n",
       "<style scoped>\n",
       "    .dataframe tbody tr th:only-of-type {\n",
       "        vertical-align: middle;\n",
       "    }\n",
       "\n",
       "    .dataframe tbody tr th {\n",
       "        vertical-align: top;\n",
       "    }\n",
       "\n",
       "    .dataframe thead th {\n",
       "        text-align: right;\n",
       "    }\n",
       "</style>\n",
       "<table border=\"1\" class=\"dataframe\">\n",
       "  <thead>\n",
       "    <tr style=\"text-align: right;\">\n",
       "      <th></th>\n",
       "      <th>Input.tweet_url</th>\n",
       "    </tr>\n",
       "    <tr>\n",
       "      <th>Answer.categories</th>\n",
       "      <th></th>\n",
       "    </tr>\n",
       "  </thead>\n",
       "  <tbody>\n",
       "    <tr>\n",
       "      <th>category 1</th>\n",
       "      <td>1893</td>\n",
       "    </tr>\n",
       "    <tr>\n",
       "      <th>category 2</th>\n",
       "      <td>306</td>\n",
       "    </tr>\n",
       "    <tr>\n",
       "      <th>category 3</th>\n",
       "      <td>121</td>\n",
       "    </tr>\n",
       "    <tr>\n",
       "      <th>category 4</th>\n",
       "      <td>192</td>\n",
       "    </tr>\n",
       "    <tr>\n",
       "      <th>category 5</th>\n",
       "      <td>15</td>\n",
       "    </tr>\n",
       "    <tr>\n",
       "      <th>category 6</th>\n",
       "      <td>3</td>\n",
       "    </tr>\n",
       "    <tr>\n",
       "      <th>category 7</th>\n",
       "      <td>263</td>\n",
       "    </tr>\n",
       "  </tbody>\n",
       "</table>\n",
       "</div>"
      ],
      "text/plain": [
       "                   Input.tweet_url\n",
       "Answer.categories                 \n",
       "category 1                    1893\n",
       "category 2                     306\n",
       "category 3                     121\n",
       "category 4                     192\n",
       "category 5                      15\n",
       "category 6                       3\n",
       "category 7                     263"
      ]
     },
     "execution_count": 4,
     "metadata": {},
     "output_type": "execute_result"
    }
   ],
   "source": [
    "print(final_df.shape)\n",
    "final_df[[\"Input.tweet_url\", \"Answer.categories\"]].groupby(\"Answer.categories\").count()"
   ]
  },
  {
   "cell_type": "markdown",
   "metadata": {},
   "source": [
    "## Find All Labels For Each Tweet\n",
    "\n",
    "Iterate through our list of labels and find each category for each tweet. We'll put these categories into a dictionary that maps tweet URLs to the list of category labels that URL has received."
   ]
  },
  {
   "cell_type": "code",
   "execution_count": 5,
   "metadata": {},
   "outputs": [],
   "source": [
    "answer_map = {}\n",
    "\n",
    "for idx, row in final_df[[\"Input.tweet_url\", \"Answer.categories\"]].iterrows():\n",
    "\n",
    "    # Replace category with a number\n",
    "    cat_num = int(row[1].replace(\"category \", \"\"))\n",
    "\n",
    "    # Add the numeric category to the list of labels for this tweet\n",
    "    cat_list = answer_map.get(row[0], []) + [cat_num]\n",
    "    \n",
    "    # Update answers for this tweet\n",
    "    answer_map[row[0]] = cat_list\n",
    "    "
   ]
  },
  {
   "cell_type": "code",
   "execution_count": 6,
   "metadata": {},
   "outputs": [
    {
     "name": "stdout",
     "output_type": "stream",
     "text": [
      "Fleiss Kappa: 0.28410664785343254\n"
     ]
    }
   ],
   "source": [
    "# Get the list of labels for each item\n",
    "three_label_data = [tup[1] for tup in answer_map.items()]\n",
    "\n",
    "# Aggregate these labels rows of counts per label\n",
    "three_label_table, three_label_cats = aggregate_raters(three_label_data)\n",
    "\n",
    "# Calculate Fleiss's kappa for this data\n",
    "fleiss = fleiss_kappa(three_label_table)\n",
    "\n",
    "print(\"Fleiss Kappa:\", fleiss)"
   ]
  },
  {
   "cell_type": "markdown",
   "metadata": {},
   "source": [
    "## Generate Labels Based on Majority Vote for Each Tweet"
   ]
  },
  {
   "cell_type": "code",
   "execution_count": 7,
   "metadata": {},
   "outputs": [],
   "source": [
    "def find_vote(labels):\n",
    "    '''\n",
    "    Find the most common label, if it exists. \n",
    "    If no unique most-common label exists, return None\n",
    "    '''\n",
    "    label_set = set(labels)\n",
    "    \n",
    "    if ( len(label_set) == 1 ):\n",
    "        return label_set.pop()\n",
    "    else:\n",
    "        label_counts = dict([(l, sum([1 if x==l else 0 for x in labels])) for l in label_set])\n",
    "\n",
    "        sorted_votes = sorted(label_counts, key=label_counts.get)\n",
    "        high = sorted_votes[-1]\n",
    "        next_high = sorted_votes[-2]\n",
    "\n",
    "        if ( label_counts[high] == label_counts[next_high] ):\n",
    "            return None\n",
    "        else:\n",
    "            return sorted_votes[-1]"
   ]
  },
  {
   "cell_type": "code",
   "execution_count": 8,
   "metadata": {},
   "outputs": [
    {
     "name": "stdout",
     "output_type": "stream",
     "text": [
      "Majority: 849 of 931\n"
     ]
    },
    {
     "data": {
      "image/png": "[encoded data removed]",
      "text/plain": [
       "<Figure size 432x288 with 1 Axes>"
      ]
     },
     "metadata": {
      "needs_background": "light"
     },
     "output_type": "display_data"
    }
   ],
   "source": [
    "actual_labels = [find_vote(l) for l in answer_map.values()]\n",
    "label_counts = dict([(x, 0) for x in range(1, 8)])\n",
    "\n",
    "has_majority = list(filter(lambda x: x != None, actual_labels))\n",
    "print(\"Majority:\", len(has_majority), \"of\", len(actual_labels))\n",
    "\n",
    "for l in has_majority:\n",
    "    label_counts[l] += 1\n",
    "\n",
    "x_pos = range(len(label_counts))\n",
    "y_val = [label_counts[x] for x in sorted(label_counts.keys())]\n",
    "\n",
    "\n",
    "plt.bar(x_pos, y_val, align='center', alpha=0.5)\n",
    "plt.xticks(x_pos, label_names, rotation=90)\n",
    "plt.ylabel(\"Frequency\")\n",
    "plt.xlabel(\"Category\")\n",
    "plt.grid()\n",
    "plt.show()"
   ]
  },
  {
   "cell_type": "markdown",
   "metadata": {},
   "source": [
    "## Failure Analysis\n",
    "\n",
    "Show tweets where we don't have a majority vote."
   ]
  },
  {
   "cell_type": "code",
   "execution_count": 9,
   "metadata": {
    "scrolled": true
   },
   "outputs": [
    {
     "name": "stdout",
     "output_type": "stream",
     "text": [
      "[3, 4, 1] <p>I'm so high high high that a bitch can't blow my high</p>\n",
      "\n",
      "[4, 1, 7] <p>what are the criterias that are necessary for a girl to be referred to as a whore??</p>\n",
      "\n",
      "[2, 1, 7] <p>@MrRPMurphy @ladygaga BITCH YOU BETTER SAY YES!!!!!!!!</p>\n",
      "\n",
      "[1, 4, 3] <p>Fuck I look like hoe? I look like yes and you look like no</p>\n",
      "\n",
      "[1, 2, 7] <p>Studying can become a revolting bitch at times &gt;_&gt;</p>\n",
      "\n",
      "[1, 2, 7] <p>@S_lina_ i was like really bitch is it? ð</p>\n",
      "\n",
      "[2, 1, 7] <p>Any cunt want to start a band?</p>\n",
      "\n",
      "[2, 4, 3] <p>That my bitch forever eva. The love we got is forever eva</p>\n",
      "\n",
      "[5, 6, 7] <p>@ItsJasonDidee I cunt go until May ð¢</p>\n",
      "\n",
      "[4, 1, 7] <p>I wish I had a bitch like me ð©</p>\n",
      "\n",
      "[7, 4, 3] <p>\"Tell them if he's not part of the solution he is part of the problem then say bitch better have my money\"- the shit my dad says ð</p>\n",
      "\n",
      "[2, 1, 7] <p>You don't call your girlfriend a hoe. Where the real guys at</p>\n",
      "\n",
      "[7, 1, 2] <p>Found a house party bitch!!!!!</p>\n",
      "\n",
      "[2, 7, 1] <p>where is my mom bitch I'm starving</p>\n",
      "\n",
      "[5, 7, 1] <p>I don't like handjobs, bitch I like head</p>\n",
      "\n",
      "[2, 7, 1] <p>@yungfetuss u my main them my side hoe$</p>\n",
      "\n",
      "[2, 1, 4] <p>Bitch I'm good , always</p>\n",
      "\n",
      "[3, 4, 1] <p>It's Britney Bitch! \n",
      "#MTVStars Britney Spears\n",
      "--102</p>\n",
      "\n",
      "[2, 1, 7] <p>\"like bitch caalllm dowwwn\" ð­ð­ð­</p>\n",
      "\n",
      "[2, 1, 7] <p>you don't ever trust no bitch ever</p>\n",
      "\n",
      "[1, 7, 3] <p>Vroom vroom, yeah I'm rich bitch</p>\n",
      "\n",
      "[2, 7, 1] <p>@RonnieRadke oh shit bitch ð</p>\n",
      "\n",
      "[4, 7, 2] <p>I'm too clean I'm too holy bitch I'm Godly</p>\n",
      "\n",
      "[2, 7, 1] <p>@_HannahNicole24 bitch mom said you could come over</p>\n",
      "\n",
      "[2, 1, 7] <p>Lol don't think bitch</p>\n",
      "\n",
      "[1, 4, 7] <p>Work is a bitch! I no longer want to work on Sunday's</p>\n",
      "\n",
      "[4, 7, 1] <p>i don't need a bitch ð¯</p>\n",
      "\n",
      "[2, 1, 5] <p>@__JazmineP  That bitch make you wanna fuck</p>\n",
      "\n",
      "[3, 1, 2] <p>Throw sum D's on that bitch</p>\n",
      "\n",
      "[1, 2, 7] <p>This nigga lost in the sauce and his bitch lost in the game.</p>\n",
      "\n",
      "[4, 2, 3] <p>my lil bitch a vet, she said she need a doggg</p>\n",
      "\n",
      "[2, 7, 1] <p>Did you know the most common food allergy is being a little bitch?</p>\n",
      "\n",
      "[4, 7, 1] <p>I don't want hoes, what can a hoe do for me?</p>\n",
      "\n",
      "[7, 1, 3] <p>\" YOU'ON KNOW NAAN HOE (uh uh) \"</p>\n",
      "\n",
      "[2, 1, 7] <p>still on top pretty bitch gang!</p>\n",
      "\n",
      "[7, 2, 1] <p>When a bitch nigga want u</p>\n",
      "\n",
      "[7, 1, 4] <p>Yessssssss I'm out this bitch ððð</p>\n",
      "\n",
      "[7, 1, 4] <p>\"I dont want to get in between them\"- Carson's a bitch.</p>\n",
      "\n",
      "[2, 3, 1] <p>fill my cup, bitch go fill my cup yeah</p>\n",
      "\n",
      "[1, 2, 7] <p>You have to show the modern hoe a little appreciation</p>\n",
      "\n",
      "[7, 2, 4] <p>my main bitch and my side bitch mad at me</p>\n",
      "\n",
      "[7, 4, 1] <p>you got the right lil bitch !</p>\n",
      "\n",
      "[1, 2, 4] <p>you know that i'm a crazy bitch</p>\n",
      "\n",
      "[3, 1, 2] <p>move bitch !!!!!!! get out the way</p>\n",
      "\n",
      "[3, 2, 1] <p>one hoe to my left and one to my right</p>\n",
      "\n",
      "[2, 3, 7] <p>I'm Eat Fr ðµð´ Yah Hoe Can tell Yah That ð</p>\n",
      "\n",
      "[7, 2, 1] <p>4/300 BITCH VOTE!\n",
      "\n",
      "#MTVStars Lady Gaga | Rihanna | Katy Perry | Ariana Grande | Beyonce | Iggy Azalea</p>\n",
      "\n",
      "[1, 2, 7] <p>ð if u wanna be my hoe, vote ð\n",
      "\n",
      "#MTVStars One Direction \n",
      "\n",
      "-623</p>\n",
      "\n",
      "[1, 2, 4] <p>Bitch I'm bout that action</p>\n",
      "\n",
      "[1, 7, 2] <p>I told my bitch to dye her hair red like Dennis Rodman</p>\n",
      "\n",
      "[3, 1, 7] <p>Bitch better get my money</p>\n",
      "\n",
      "[3, 1, 7] <p>and just like that, I'm over your bitch ass</p>\n",
      "\n",
      "[2, 1, 7] <p>ð©\"What do u want to be when u grow up?\" \n",
      "ð§\"A whore\"\n",
      "ð©\"NO! A doctor!\"\n",
      "ð§\"A doctor whore\"\n",
      "\n",
      "ð ð ð ð ð ð ð ð</p>\n",
      "\n",
      "[1, 7, 4] <p>Why does my family get so mad if I talk to a boy just as a friend they curse me n call me a whore I don't get a break from them either</p>\n",
      "\n",
      "[4, 2, 1] <p>That cookie ain't no hoe ððð¾ðð¾ðð¾ð¦ #d</p>\n",
      "\n",
      "[1, 4, 2] <p>I actually miss chilling with Ashanti. But first she must shout at me for 20 minutes, then she tells me I must go through a hoe phase.</p>\n",
      "\n",
      "[6, 2, 1] <p>\"TU TEM MO CARA DE BEBÃ\" bitch tell me something i don't know</p>\n",
      "\n",
      "[7, 1, 2] <p>@Ken2Dawg Kenny you used to have one bitch</p>\n",
      "\n",
      "[4, 3, 1] <p>Boolin with your bitch she never told you</p>\n",
      "\n",
      "[2, 3, 1] <p>Left my baby mama now my bitch a Barbie. #woah</p>\n",
      "\n",
      "[1, 2, 4] <p>yo bitch call me big daddy</p>\n",
      "\n",
      "[5, 3, 1] <p>When a girl say \"I don't suck dick\" I be on some Justin bieber shit \"bitch fym?Ohh   You better get on yo knees or go get yo keys bitch fym\"</p>\n",
      "\n",
      "[2, 1, 3] <p>My bitch don't like to know me</p>\n",
      "\n",
      "[3, 7, 1] <p>You can't keep a shallow bitch, if yo' pockets ain't deep.</p>\n",
      "\n",
      "[1, 2, 7] <p>my bitch brown like Hennessy</p>\n",
      "\n",
      "[1, 2, 7] <p>Can't take a hoe to serious</p>\n",
      "\n",
      "[1, 3, 7] <p>Never waste a hoes time, bitch in on my own time</p>\n",
      "\n",
      "[5, 4, 1] <p>@Fox_toasts we get it I'm a whore ð</p>\n",
      "\n",
      "[4, 1, 7] <p>When your family thinks you're being a bitch but you're just anxious and hate them all âºï¸âºï¸âºï¸âºï¸âºï¸âºï¸âºï¸âºï¸âºï¸âºï¸âºï¸âºï¸âºï¸âºï¸âºï¸âºï¸âºï¸âºï¸âºï¸âºï¸âºï¸âºï¸âºï¸</p>\n",
      "\n",
      "[2, 7, 1] <p>@ASteezin @macadelic01 and how many for you guys? Bitch please</p>\n",
      "\n",
      "[4, 1, 7] <p>@giapetrelli and I'm not trying to be a bitch right now.</p>\n",
      "\n",
      "[5, 4, 1] <p>@ScallyZach Absolutely true sir! ;) We bitch-boys just deserve to gag on your huge cocks and get choked, slapped, spanked and spat-on too ;)</p>\n",
      "\n",
      "[1, 7, 4] <p>ð©ââ¤ï¸âð©ð«ð©ââ¤ï¸âð©ð«ð©ââ¤ï¸âð©ð«ð©ââ¤ï¸âð©ð«ð©ââ¤ï¸âð©\n",
      "ð«\n",
      "ð©ââ¤ï¸âð©.          ð¯\n",
      "ð«                   How I Expose a HOE\n",
      "ð©ââ¤ï¸âð©\n",
      "ð«\n",
      "ð©ââ¤ï¸âð©\n",
      "ð«ð©ââ¤ï¸âð©ð«ð©ââ¤ï¸âð©ð«ð©ââ¤ï¸âð©ð«ð©ââ¤ï¸âð©ð«</p>\n",
      "\n",
      "[2, 5, 1] <p>@JussieSmollett on top of you being a pioneer you have become a sex symbol for the gay community hoe does it feel to have this title?</p>\n",
      "\n",
      "[1, 7, 2] <p>ððð that hoe is funny</p>\n",
      "\n",
      "[4, 7, 2] <p>I know Ima get my bitch back</p>\n",
      "\n",
      "[1, 7, 2] <p>@ahzisanahgase wassup bitch ðð»</p>\n",
      "\n",
      "[2, 1, 3] <p>Bad bitch wanna fuck</p>\n",
      "\n",
      "[2, 1, 4] <p>@BECCCAV3 I love how you're a bad bitch!</p>\n",
      "\n",
      "[1, 2, 7] <p>that moment when ur scrolling through ur tlist and a notif or an @ startles u\n",
      "\n",
      "bitch</p>\n",
      "\n",
      "[7, 2, 1] <p>you better vote bitch! #MTVStars Britney Spears</p>\n",
      "\n",
      "[7, 1, 3] <p>Karma is really a bitch..</p>\n",
      "\n"
     ]
    }
   ],
   "source": [
    "for url, votes in answer_map.items():\n",
    "    if ( find_vote(votes) is None ):\n",
    "        req = requests.get(url)\n",
    "        print(votes, str(req.text.encode(\"utf8\"), \"utf8\", errors=\"replace\"))\n",
    "        print()\n",
    "        "
   ]
  },
  {
   "cell_type": "markdown",
   "metadata": {
    "collapsed": true
   },
   "source": [
    "## Collect Twitter URLs and their Labels"
   ]
  },
  {
   "cell_type": "code",
   "execution_count": 10,
   "metadata": {},
   "outputs": [],
   "source": [
    "vote_map = {x:[] for x in range(1,8)}\n",
    "\n",
    "for url, votes in answer_map.items():\n",
    "    label = find_vote(votes)\n",
    "    if ( label is not None ):\n",
    "        vote_map[label].append(url)\n",
    "        "
   ]
  },
  {
   "cell_type": "markdown",
   "metadata": {},
   "source": [
    "## Randomly Sample Tweets with Labels\n",
    "\n",
    "We take a random sample of these labeled tweets for human review."
   ]
  },
  {
   "cell_type": "code",
   "execution_count": 11,
   "metadata": {
    "scrolled": false
   },
   "outputs": [
    {
     "name": "stdout",
     "output_type": "stream",
     "text": [
      "Label: Abusive\n",
      "\t https://s3.amazonaws.com/misexp/255.html <p>@HiiipowerDaidai come open the door bitch</p>\n",
      "\t https://s3.amazonaws.com/misexp/176.html <p>@JermBuggg bitch I know you seen my text</p>\n",
      "\t https://s3.amazonaws.com/misexp/419.html <p>Call the police bitch nigga. CALL THEM.</p>\n",
      "\t https://s3.amazonaws.com/misexp/538.html <p>Bitch won't get off his phone</p>\n",
      "\t https://s3.amazonaws.com/misexp/599.html <p>Try me bitch 😂😂😂😂</p>\n",
      "\t https://s3.amazonaws.com/misexp/929.html <p>what the fuck did you just say about me, you little bitch?</p>\n",
      "\t https://s3.amazonaws.com/misexp/265.html <p>Looking like Popeye. Yo bitch love the semen</p>\n",
      "\t https://s3.amazonaws.com/misexp/501.html <p>Boo bitch bye!👋🏽</p>\n",
      "\t https://s3.amazonaws.com/misexp/157.html <p>I had to put that lil bitch in her place</p>\n",
      "\t https://s3.amazonaws.com/misexp/386.html <p>I could put a bitch on like worldstar</p>\n",
      "\t https://s3.amazonaws.com/misexp/540.html <p>Wish a bitch would ☺️☺️☺️☺️</p>\n",
      "\t https://s3.amazonaws.com/misexp/208.html <p>Little ass Hoe lmao</p>\n",
      "\t https://s3.amazonaws.com/misexp/911.html <p>One bitch gone, one to go.</p>\n",
      "\t https://s3.amazonaws.com/misexp/133.html <p>Man that hoe be ain't the same shit</p>\n",
      "\t https://s3.amazonaws.com/misexp/565.html <p>\"like bitch caalllm dowwwn\" 😭😭😭</p>\n",
      "\t https://s3.amazonaws.com/misexp/147.html <p>@bridgetross25 \" ohh yeah yeah bitch back off me\"</p>\n",
      "\t https://s3.amazonaws.com/misexp/213.html <p>snitch 👋\n",
      "bitch 👋\n",
      "snitching ass bitch 👋</p>\n",
      "\t https://s3.amazonaws.com/misexp/870.html <p>Sometimes I forget I'm crazy then I see u posts some dumb ass shit bout a bitch then I realize wow I'm fucking crazy</p>\n",
      "\t https://s3.amazonaws.com/misexp/633.html <p>I don't talk to bitches who don't get they feet done.. No Bitch.. Bye Bitch</p>\n",
      "\t https://s3.amazonaws.com/misexp/335.html <p>If u go back to ur ex bc u see him happy n moving on .. ur a bitter ex bye bitch</p>\n",
      "\n",
      "Label: Affectionate\n",
      "\t https://s3.amazonaws.com/misexp/072.html <p>@bigsteeeez I called your bitch ass today</p>\n",
      "\t https://s3.amazonaws.com/misexp/352.html <p>My brother is a hoe 😊😊😊😊😊😊😊😊</p>\n",
      "\t https://s3.amazonaws.com/misexp/752.html <p>YUUUUSSS BITCH I'd be like I'm you're being a cock block ✋🏻 lemme get my nut and then come back and we'll talk 😂😂😂 - only @JerikaJohnson2</p>\n",
      "\t https://s3.amazonaws.com/misexp/018.html <p>When @BeffCrook 's mum answers the phone to you as 'Hollie the hoe' 👍🏼👍🏼👍🏼</p>\n",
      "\t https://s3.amazonaws.com/misexp/090.html <p>It's my bitch birthday turn up @aniphiaaa_</p>\n",
      "\t https://s3.amazonaws.com/misexp/846.html <p>Bad bitch rolling w/ me.</p>\n",
      "\t https://s3.amazonaws.com/misexp/199.html <p>Britney Bitch!\n",
      "#MTVStars Iggy Azalea 🚀 Lana Del Rey 🚀 Britney Spears 🚀 Demi Lovato 🚀 Selena Gomez\n",
      "xxxx26</p>\n",
      "\t https://s3.amazonaws.com/misexp/613.html <p>My cousin is legit saving up in case his future bitch needs a boob or ass job 😂</p>\n",
      "\t https://s3.amazonaws.com/misexp/849.html <p>I'm tryna calm down , I Called my bitch she said calm down.</p>\n",
      "\t https://s3.amazonaws.com/misexp/877.html <p>@rizzlesamelia fucking love you bitch X X</p>\n",
      "\t https://s3.amazonaws.com/misexp/888.html <p>@cindylinders 😂😂😂for real bitch</p>\n",
      "\t https://s3.amazonaws.com/misexp/290.html <p>Half bitch half sweetheart ☺️</p>\n",
      "\t https://s3.amazonaws.com/misexp/334.html <p>I like your hoe costume,I really do</p>\n",
      "\t https://s3.amazonaws.com/misexp/456.html <p>you're not a bitch, not even a little. You're a kitten</p>\n",
      "\t https://s3.amazonaws.com/misexp/703.html <p>@kvcalm___ 😂😂😂 what if they don't have no bitch ?</p>\n",
      "\t https://s3.amazonaws.com/misexp/276.html <p>Britney Bitch!\n",
      "#MTVStars Iggy Azalea 🚀 Lana DeI Rey 🚀 Britney Spears 🚀 Demi Lovato 🚀 Selena Gomez\n",
      "xxx--48</p>\n",
      "\t https://s3.amazonaws.com/misexp/796.html <p>@brazuguesa miss u bitch 💟💟</p>\n",
      "\t https://s3.amazonaws.com/misexp/082.html <p>@elle_lee__ thanks my bitch love you❤️</p>\n",
      "\t https://s3.amazonaws.com/misexp/709.html <p>@_LEXK22 Bitch Next Time Call Me - 🙄</p>\n",
      "\t https://s3.amazonaws.com/misexp/411.html <p>@_tyyyyyyyyyyyy bitch you talk too much 👊🏽👊🏽</p>\n",
      "\n",
      "Label: Lyrics\n",
      "\t https://s3.amazonaws.com/misexp/180.html <p>10.1 Bitch Better Have My Money $ #MTVStars #MTVStarOf2015 Rihanna 🍕  Lady Gaga 🍕  Nicki Minaj</p>\n",
      "\t https://s3.amazonaws.com/misexp/528.html <p>61.1 Bitch Better Have My Money $ #MTVStars #MTVStarOf2015 Rihanna 🍕  Lady Gaga 🍕  Tinie Tempah</p>\n",
      "\t https://s3.amazonaws.com/misexp/708.html <p>100.1 Bitch Better Have My Money $ #MTVStars #MTVStarOf2015 Rihanna 🍕  Lady Gaga 🍕  Nicki Minaj</p>\n",
      "\t https://s3.amazonaws.com/misexp/921.html <p>Bitch I'm smiling, bet you see me from the nosebleeds</p>\n",
      "\t https://s3.amazonaws.com/misexp/763.html <p>🎶\"Getting super high tryin to stay low key suicide my doors, suicide my doors bad bitch of the year you should win an award\" 🎶-Tyga💙</p>\n",
      "\t https://s3.amazonaws.com/misexp/815.html <p>99 problems but a bitch bet not be nann</p>\n",
      "\t https://s3.amazonaws.com/misexp/648.html <p>we don't want no bum bitch , no we don't want no bum bitch , we don't want no bum bum bum bum bum 😂</p>\n",
      "\t https://s3.amazonaws.com/misexp/160.html <p>He's a slut, he's s hoe, he's a freak, got a different girl every day of the week.</p>\n",
      "\t https://s3.amazonaws.com/misexp/790.html <p>She's a bad bitch , super bad bitch</p>\n",
      "\t https://s3.amazonaws.com/misexp/244.html <p>you were my cup of tea.. 😔\n",
      "⠀\n",
      "⠀\n",
      "⠀\n",
      "⠀\n",
      "⠀\n",
      "⠀\n",
      "⠀\n",
      "⠀\n",
      "⠀\n",
      "⠀\n",
      "⠀\n",
      "⠀\n",
      "⠀\n",
      "⠀\n",
      "⠀\n",
      "⠀\n",
      "⠀\n",
      "⠀\n",
      "⠀\n",
      "⠀\n",
      "⠀\n",
      "⠀\n",
      "⠀\n",
      "⠀\n",
      "⠀NOW I SIP LEAN BITCH! FUCK YOU MEAN GANG GANG GANG IN THIS BITCH</p>\n",
      "\t https://s3.amazonaws.com/misexp/102.html <p>Britney Bitch!\n",
      "#MTVStars Britney Spears\n",
      "9neyy1</p>\n",
      "\t https://s3.amazonaws.com/misexp/437.html <p>a|100 BITCH BETTER HAVE MY MONEY $♥ #MTVStarOf2015 #MTVStars Rihanna 🌸 Lady Gaga 🌸</p>\n",
      "\t https://s3.amazonaws.com/misexp/325.html <p>@snatchem_69 freak hoe , freak hoe. bounce that ass make ya knees touch ya elbows</p>\n",
      "\t https://s3.amazonaws.com/misexp/881.html <p>44.1 Bitch Better Have My Money $ #MTVStars #MTVStarOf2015 Rihanna 🍕  Lady Gaga 🍕  Nicki Minaj</p>\n",
      "\t https://s3.amazonaws.com/misexp/900.html <p>i got your bitch on 5th ave, i'm daddy.</p>\n",
      "\t https://s3.amazonaws.com/misexp/007.html <p>BITCH BETTER HAVE MY MONEY #MTVStars Rihanna ⚓ Nicki Minaj ⚓ Lady Gaga ⚓ One Direction ⚓</p>\n",
      "\t https://s3.amazonaws.com/misexp/129.html <p>....Yeah im rich bitch</p>\n",
      "\t https://s3.amazonaws.com/misexp/693.html <p>Lil bitch...ya time is up *flava flav voice*</p>\n",
      "\t https://s3.amazonaws.com/misexp/486.html <p>\"Rihanna - Bitch Better Have My Money (R3bab remix)\"</p>\n",
      "\t https://s3.amazonaws.com/misexp/776.html <p>RT BritneysPHarmy: It's Britney Bitch! #MTVStars Britney Spears GRaajKumaar GRaajKumaar GRaajKumaar GRaajKumaar</p>\n",
      "\n",
      "Label: Self\n",
      "\t https://s3.amazonaws.com/misexp/735.html <p>I don't talk bout people ' ✋you ah never hear me saying some bout what a bitch got or wearing !!! That mean im worried &amp; im not at all !!!</p>\n",
      "\t https://s3.amazonaws.com/misexp/250.html <p>Thinking like a nigga, so I don't get played like a bitch</p>\n",
      "\t https://s3.amazonaws.com/misexp/193.html <p>I know they think I'm a BITCH</p>\n",
      "\t https://s3.amazonaws.com/misexp/800.html <p>A part of me wants to buy new clothes. Another part of me wants to not be a broke bitch.</p>\n",
      "\t https://s3.amazonaws.com/misexp/706.html <p>I have figured out my karma for being a bully bitch all those years.</p>\n",
      "\t https://s3.amazonaws.com/misexp/048.html <p>I'm a boss bitch my shirt BOSS bitch</p>\n",
      "\t https://s3.amazonaws.com/misexp/532.html <p>I'm a crazy bitch 😂</p>\n",
      "\t https://s3.amazonaws.com/misexp/433.html <p>Ima Fall Back And Let Mfs Get They Lil Thoughts Together .. Cuss I Know For A Fact Ain't No Bitch Gone Be There Like I Am 💯</p>\n",
      "\t https://s3.amazonaws.com/misexp/865.html <p>I came in this world crying and everybody smiling. \n",
      "Imma leave this bitch smiling and everybody crying.</p>\n",
      "\t https://s3.amazonaws.com/misexp/189.html <p>@ceeeanemone @sta_xoxox @BestAcapellaas @OverlyManlyMF I'm a broke ass bitch</p>\n",
      "\t https://s3.amazonaws.com/misexp/642.html <p>Got my grade back from my test and a Bitch pass em 💃🏽💃🏽💃🏽💃🏽💃🏽</p>\n",
      "\t https://s3.amazonaws.com/misexp/566.html <p>I'm a crazy ass bitch</p>\n",
      "\t https://s3.amazonaws.com/misexp/527.html <p>Im a lame hoe ? . But all the hoes before n after me was lame  AF THO .</p>\n"
     ]
    },
    {
     "name": "stdout",
     "output_type": "stream",
     "text": [
      "\t https://s3.amazonaws.com/misexp/158.html <p>@misguidedLight I'M A FREE BITCH BABY</p>\n",
      "\t https://s3.amazonaws.com/misexp/390.html <p>Bitch please, i'm parawhore 💁</p>\n",
      "\t https://s3.amazonaws.com/misexp/876.html <p>I don't wanna be in a relationship = I wanna be a hoe</p>\n",
      "\t https://s3.amazonaws.com/misexp/723.html <p>Bitch I'm The Devil‼️‼️‼️‼️‼️‼️💁🏽😈</p>\n",
      "\t https://s3.amazonaws.com/misexp/342.html <p>@X_T_M_ i'm a like whore :p</p>\n",
      "\t https://s3.amazonaws.com/misexp/263.html <p>I'm one sexy bitch</p>\n",
      "\t https://s3.amazonaws.com/misexp/253.html <p>\"You look mean\" \n",
      "Bitch I am mean. Bye.</p>\n",
      "\n",
      "Label: Other\n",
      "\t https://s3.amazonaws.com/misexp/880.html <p>My block button lost her virginity like seconds after I created my Twitter, and I still tap that hoe dailyyy ✌🏼️🙂</p>\n",
      "\t https://s3.amazonaws.com/misexp/782.html <p>Works going to be a bitch tomorrow</p>\n",
      "\t https://s3.amazonaws.com/misexp/313.html <p>Bengals 🐅 🏉 Bitch ❗️❗️❗️❗️ #WhoDey</p>\n",
      "\t https://s3.amazonaws.com/misexp/807.html <p>It's Britney Bitch!\n",
      "#MTVStars Britney Spears\n",
      "Opsss48</p>\n",
      "\t https://s3.amazonaws.com/misexp/909.html <p>Mother Nature a real BITCH 🙄 I hate this hoe I swear to god !</p>\n",
      "\t https://s3.amazonaws.com/misexp/658.html <p>I got bitch trayed 😂😂😂😂</p>\n",
      "\t https://s3.amazonaws.com/misexp/563.html <p>My phone was on the charger for so long but the bitch wasn't charging</p>\n",
      "\t https://s3.amazonaws.com/misexp/217.html <p>@RenzoDonquixote YASSSSS SLAY BITCH SLAY #RENZOHIVE WE OUTCHEA</p>\n",
      "\t https://s3.amazonaws.com/misexp/783.html <p>Girls that call themselves \"bitch\" as a cute meme is not cute</p>\n",
      "\t https://s3.amazonaws.com/misexp/668.html <p>People bitch about interrogating and torturing terrorists..meanwhile they cut our troops heads off on video for fun..I don't get it.</p>\n",
      "\t https://s3.amazonaws.com/misexp/261.html <p>It's rainin like a bitch. But where my bitch. I need my bitch.</p>\n",
      "\t https://s3.amazonaws.com/misexp/586.html <p>Being a stripper don't make you a hoe</p>\n",
      "\t https://s3.amazonaws.com/misexp/093.html <p>123 Bitch  #MTVStars Britney Spears * Lana Del Rey</p>\n",
      "\t https://s3.amazonaws.com/misexp/273.html <p>fuck that bloodwork hurt like a bitch</p>\n",
      "\t https://s3.amazonaws.com/misexp/665.html <p>Okay if a female dog is called \"bitch\" then whats a male dog called??? Gay? :/</p>\n",
      "\t https://s3.amazonaws.com/misexp/343.html <p>call me a hoe but i want calvin kleins</p>\n",
      "\t https://s3.amazonaws.com/misexp/871.html <p>He finally found a bitch that down I know he wish she stay 💯</p>\n",
      "\t https://s3.amazonaws.com/misexp/761.html <p>Getting sick. Ain't this about a bitch!!!</p>\n",
      "\t https://s3.amazonaws.com/misexp/130.html <p>#RIHvember is fucking here!!! I'M READY BITCH</p>\n",
      "\t https://s3.amazonaws.com/misexp/587.html <p>Britney Bitch!\n",
      "#MTVStars Iggy Azalea 🚀 Lana DeI Rey 🚀 Britney Spears 🚀 Demi Lovato 🚀 Selena Gomez\n",
      "xxxx1</p>\n",
      "\n"
     ]
    }
   ],
   "source": [
    "from IPython.core.display import display, HTML\n",
    "\n",
    "for k in vote_map.keys():\n",
    "    tweet_urls = vote_map[k]\n",
    "    if ( len(tweet_urls) < 20 ):\n",
    "        continue\n",
    "        \n",
    "    print(\"Label:\", label_names[k-1])\n",
    "    samp = random.sample(tweet_urls, 20)\n",
    "    for url in samp:\n",
    "        r = requests.get(url)\n",
    "        print(\"\\t\", url, r.content.decode(\"utf8\"))\n",
    "#         display(HTML())\n",
    "    \n",
    "    print()"
   ]
  },
  {
   "cell_type": "markdown",
   "metadata": {},
   "source": [
    "## Extract the HTML Index Number from Each Tweet\n",
    "\n",
    "We use the index number (xxx.html) as a key for mapping back to the original tweet ID."
   ]
  },
  {
   "cell_type": "code",
   "execution_count": 12,
   "metadata": {},
   "outputs": [
    {
     "name": "stdout",
     "output_type": "stream",
     "text": [
      "1\n",
      "2\n",
      "3\n",
      "4\n",
      "5\n",
      "6\n",
      "7\n"
     ]
    }
   ],
   "source": [
    "data_list = []\n",
    "\n",
    "for label, tweet_list in vote_map.items():\n",
    "    print(label)\n",
    "    \n",
    "    for tweet in tweet_list:\n",
    "        index = tweet.replace(\"https://s3.amazonaws.com/misexp/\", \"\").replace(\".html\", \"\")\n",
    "        data_list.append({\"id\":index, \"label\":label})"
   ]
  },
  {
   "cell_type": "code",
   "execution_count": 13,
   "metadata": {},
   "outputs": [],
   "source": [
    "output_df = pd.DataFrame(data_list)\n",
    "output_df.index = output_df.id.apply(lambda x: int(x))"
   ]
  },
  {
   "cell_type": "markdown",
   "metadata": {},
   "source": [
    "## Connect Labels to Text"
   ]
  },
  {
   "cell_type": "code",
   "execution_count": 14,
   "metadata": {},
   "outputs": [],
   "source": [
    "samples_to_label = pd.read_json(\"../00_misogyny_tweet_sampling/misogyny_en_samples_to_label.json\")\n",
    "samples_to_label.columns = [\"text\"]"
   ]
  },
  {
   "cell_type": "code",
   "execution_count": 15,
   "metadata": {},
   "outputs": [],
   "source": [
    "labeled_text_df = samples_to_label.join(output_df).dropna()"
   ]
  },
  {
   "cell_type": "markdown",
   "metadata": {},
   "source": [
    "## Create One-Hot Encodings for the Labels\n",
    "\n",
    "To make things easier to read from the CSV file, we convert label IDs to a one-hot encoded columns with the appropriate names."
   ]
  },
  {
   "cell_type": "code",
   "execution_count": 20,
   "metadata": {},
   "outputs": [],
   "source": [
    "for label_index, label_name in enumerate(label_names):\n",
    "    labeled_text_df[label_name] = labeled_text_df[\"label\"].apply(lambda l: 1 if int(l)-1 == label_index else 0)"
   ]
  },
  {
   "cell_type": "code",
   "execution_count": null,
   "metadata": {},
   "outputs": [],
   "source": []
  },
  {
   "cell_type": "code",
   "execution_count": 21,
   "metadata": {},
   "outputs": [],
   "source": [
    "labeled_text_df.to_csv(\"mturk_labeled_tweet_text.csv\", index=False)"
   ]
  },
  {
   "cell_type": "code",
   "execution_count": null,
   "metadata": {},
   "outputs": [],
   "source": []
  }
 ],
 "metadata": {
  "kernelspec": {
   "display_name": "Python 3",
   "language": "python",
   "name": "python3"
  },
  "language_info": {
   "codemirror_mode": {
    "name": "ipython",
    "version": 3
   },
   "file_extension": ".py",
   "mimetype": "text/x-python",
   "name": "python",
   "nbconvert_exporter": "python",
   "pygments_lexer": "ipython3",
   "version": "3.6.8"
  }
 },
 "nbformat": 4,
 "nbformat_minor": 2
}
